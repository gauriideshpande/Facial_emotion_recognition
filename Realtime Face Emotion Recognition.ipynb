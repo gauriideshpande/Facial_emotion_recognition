{
 "cells": [
  {
   "cell_type": "markdown",
   "id": "b24caf1e",
   "metadata": {},
   "source": [
    "# Face Emotion Recognition"
   ]
  },
  {
   "cell_type": "code",
   "execution_count": null,
   "id": "27cb4891",
   "metadata": {},
   "outputs": [],
   "source": [
    "#if the libraries are not installed then use 'pip install opencv-python', 'pip install deepface', 'pip install matplotlib'\n",
    "#Importing desired libraries\n",
    "import cv2\n",
    "from deepface import DeepFace\n",
    "import matplotlib.pyplot as plt"
   ]
  },
  {
   "cell_type": "code",
   "execution_count": null,
   "id": "8439fc38",
   "metadata": {},
   "outputs": [],
   "source": [
    "#Getting the image\n",
    "img = cv2.imread('happy_boy.jfif')"
   ]
  },
  {
   "cell_type": "code",
   "execution_count": null,
   "id": "ba90ebd1",
   "metadata": {},
   "outputs": [],
   "source": [
    "plt.imshow(img) ## img in BGR"
   ]
  },
  {
   "cell_type": "code",
   "execution_count": null,
   "id": "e7c27d66",
   "metadata": {},
   "outputs": [],
   "source": [
    "plt.imshow(cv2.cvtColor(img, cv2.COLOR_BGR2RGB)) # img in RGB"
   ]
  },
  {
   "cell_type": "code",
   "execution_count": null,
   "id": "98b25377",
   "metadata": {},
   "outputs": [],
   "source": [
    "#using DeepFace for predicting the emotion\n",
    "predictions=DeepFace.analyze(img)"
   ]
  },
  {
   "cell_type": "code",
   "execution_count": null,
   "id": "419bdc23",
   "metadata": {},
   "outputs": [],
   "source": [
    "predictions"
   ]
  },
  {
   "cell_type": "code",
   "execution_count": null,
   "id": "640748ac",
   "metadata": {},
   "outputs": [],
   "source": [
    "type(predictions)"
   ]
  },
  {
   "cell_type": "code",
   "execution_count": null,
   "id": "996cecce",
   "metadata": {},
   "outputs": [],
   "source": [
    "# to check the dominant emotion\n",
    "predictions['dominant_emotion']"
   ]
  },
  {
   "cell_type": "code",
   "execution_count": null,
   "id": "cb8441e3",
   "metadata": {},
   "outputs": [],
   "source": [
    "faceCascade = cv2.CascadeClassifier(cv2.data.haarcascades + 'haarcascade_frontalface_default.xml')"
   ]
  },
  {
   "cell_type": "code",
   "execution_count": null,
   "id": "f97c5740",
   "metadata": {},
   "outputs": [],
   "source": [
    "gray = cv2.cvtColor(img, cv2.COLOR_BGR2GRAY)\n",
    "\n",
    "faces = faceCascade.detectMultiScale(gray,1.1,4)\n",
    "\n",
    "for(x,y,w,h) in faces:\n",
    "    cv2.rectangle(img,(x,y),(x+w,y+h),(0,255,0),2)"
   ]
  },
  {
   "cell_type": "code",
   "execution_count": null,
   "id": "b5ffddff",
   "metadata": {},
   "outputs": [],
   "source": [
    "plt.imshow(cv2.cvtColor(img, cv2.COLOR_BGR2RGB))"
   ]
  },
  {
   "cell_type": "code",
   "execution_count": null,
   "id": "8c2654a6",
   "metadata": {},
   "outputs": [],
   "source": [
    "font = cv2.FONT_HERSHEY_SIMPLEX\n",
    "\n",
    "cv2.putText(img, \n",
    "            predictions['dominant_emotion'],\n",
    "            (0,25),\n",
    "            font,\n",
    "            1,\n",
    "            (0,0,255),\n",
    "            2,\n",
    "            cv2.LINE_4);"
   ]
  },
  {
   "cell_type": "code",
   "execution_count": null,
   "id": "9134ca1d",
   "metadata": {
    "scrolled": true
   },
   "outputs": [],
   "source": [
    "plt.imshow(cv2.cvtColor(img, cv2.COLOR_BGR2RGB))"
   ]
  },
  {
   "cell_type": "markdown",
   "id": "c22c854e",
   "metadata": {},
   "source": [
    "### Follow the above procedure for these images also, given below:"
   ]
  },
  {
   "cell_type": "code",
   "execution_count": null,
   "id": "21e62f67",
   "metadata": {},
   "outputs": [],
   "source": [
    "img = cv2.imread('angry_man.jfif')"
   ]
  },
  {
   "cell_type": "code",
   "execution_count": null,
   "id": "c99b717a",
   "metadata": {},
   "outputs": [],
   "source": [
    "img = cv2.imread('sad_woman.jfif')"
   ]
  },
  {
   "cell_type": "code",
   "execution_count": null,
   "id": "b739d14b",
   "metadata": {},
   "outputs": [],
   "source": [
    "img = cv2.imread('surprised_woman.jfif')"
   ]
  },
  {
   "cell_type": "markdown",
   "id": "503eccc7",
   "metadata": {},
   "source": [
    "# Real time video demo"
   ]
  },
  {
   "cell_type": "code",
   "execution_count": null,
   "id": "a699bb8e",
   "metadata": {},
   "outputs": [],
   "source": [
    "import cv2\n",
    "from deepface import DeepFace\n",
    "\n",
    "faceCascade = cv2.CascadeClassifier(cv2.data.haarcascades + 'haarcascade_frontalface_default.xml')\n",
    "\n",
    "cap = cv2.VideoCapture(0)\n",
    "\n",
    "if not cap.isOpened():\n",
    "    cap = cv2.VideoCapture(0)\n",
    "if not cap.isOpened():\n",
    "    raise IOError(\"Cannot open webcam\")\n",
    "    \n",
    "while True:\n",
    "    ret,frame = cap.read()\n",
    "    result = DeepFace.analyze(frame,actions=['emotion'])\n",
    "    \n",
    "    gray = cv2.cvtColor(frame, cv2.COLOR_BGR2GRAY)\n",
    "    \n",
    "    faces = faceCascade.detectMultiScale(gray,1.1,4)\n",
    "    \n",
    "    for(x,y,w,h) in faces:\n",
    "        cv2.rectangle(frame,(x,y),(x+w,y+h),(0,255,0),2)\n",
    "    \n",
    "    font = cv2.FONT_HERSHEY_SIMPLEX\n",
    "    \n",
    "    cv2.putText(frame, \n",
    "                result['dominant_emotion'],\n",
    "                (50,50),\n",
    "                font,3,\n",
    "                (0,0,255),\n",
    "                2,\n",
    "                cv2.LINE_4)\n",
    "    cv2.imshow('Demo video', frame)\n",
    "    \n",
    "    if cv2.waitKey(2) & 0xFF == ord('q'):\n",
    "        break\n",
    "        \n",
    "cap.release()\n",
    "cv2.destroyAllWindows()"
   ]
  },
  {
   "cell_type": "code",
   "execution_count": null,
   "id": "00b9c9ee",
   "metadata": {},
   "outputs": [],
   "source": []
  },
  {
   "cell_type": "code",
   "execution_count": null,
   "id": "0b8829a2",
   "metadata": {},
   "outputs": [],
   "source": []
  }
 ],
 "metadata": {
  "kernelspec": {
   "display_name": "Python 3 (ipykernel)",
   "language": "python",
   "name": "python3"
  },
  "language_info": {
   "codemirror_mode": {
    "name": "ipython",
    "version": 3
   },
   "file_extension": ".py",
   "mimetype": "text/x-python",
   "name": "python",
   "nbconvert_exporter": "python",
   "pygments_lexer": "ipython3",
   "version": "3.9.7"
  }
 },
 "nbformat": 4,
 "nbformat_minor": 5
}
